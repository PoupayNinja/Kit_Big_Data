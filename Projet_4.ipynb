{
 "cells": [
  {
   "cell_type": "markdown",
   "metadata": {},
   "source": [
    "# Projet maison n° 4"
   ]
  },
  {
   "cell_type": "code",
   "execution_count": 12,
   "metadata": {},
   "outputs": [],
   "source": [
    "# imports\n",
    "import requests\n",
    "from bs4 import BeautifulSoup\n",
    "import re"
   ]
  },
  {
   "cell_type": "markdown",
   "metadata": {},
   "source": [
    "**Partie A**\n",
    "\n",
    "Ecrire une fonction `get_prices_from_url()` qui extrait des informations à partir des 2 pages ci-dessous.\n",
    "\n",
    "```python\n",
    "URL_PAGE2 = \"https://kim.fspot.org/cours/page2.html\"\n",
    "URL_PAGE3 = \"https://kim.fspot.org/cours/page3.html\"\n",
    "```\n",
    "\n",
    "Avec `URL_PAGE2`, la fonction doit retourner :\n",
    "\n",
    "```json\n",
    "{'Personal': {'price': '$5', 'storage': '1GB', 'databases': 1},\n",
    " 'Small Business': {'price': '$25', 'storage': '10GB', 'databases': 5},\n",
    " 'Enterprise': {'price': '$45', 'storage': '100GB', 'databases': 25}}\n",
    "```"
   ]
  },
  {
   "cell_type": "code",
   "execution_count": 13,
   "metadata": {},
   "outputs": [],
   "source": [
    "r = requests.get(URL_PAGE2)"
   ]
  },
  {
   "cell_type": "code",
   "execution_count": 14,
   "metadata": {},
   "outputs": [],
   "source": [
    "soup = BeautifulSoup(r.content)"
   ]
  },
  {
   "cell_type": "code",
   "execution_count": 236,
   "metadata": {},
   "outputs": [
    {
     "data": {
      "text/plain": [
       "\"r = requests.get(URL_PAGE3)\\nsoup = BeautifulSoup(r.content)\\n\\ndatabase = []\\nfor subcontent in soup.findAll('ul', attrs={'class': 'pricing-table-list'}):\\n    for subcontent in tag.findAll('li'):\\n        y = re.search(r'([0-9]+) database', subcontent.text.strip())\\n        if y: \\n            database.append(y.group(1))\\n    print(database)\""
      ]
     },
     "execution_count": 236,
     "metadata": {},
     "output_type": "execute_result"
    }
   ],
   "source": [
    "'''r = requests.get(URL_PAGE3)\n",
    "soup = BeautifulSoup(r.content)\n",
    "\n",
    "database = []\n",
    "for subcontent in soup.findAll('ul', attrs={'class': 'pricing-table-list'}):\n",
    "    for subcontent in tag.findAll('li'):\n",
    "        y = re.search(r'([0-9]+) database', subcontent.text.strip())\n",
    "        if y: \n",
    "            database.append(y.group(1))\n",
    "    print(database)'''"
   ]
  },
  {
   "cell_type": "code",
   "execution_count": 245,
   "metadata": {},
   "outputs": [],
   "source": [
    "# partie A\n",
    "URL_PAGE2 = \"https://kim.fspot.org/cours/page2.html\"\n",
    "URL_PAGE3 = \"https://kim.fspot.org/cours/page3.html\"\n",
    "\n",
    "def get_prices_from_url(url):\n",
    "    r = requests.get(url)\n",
    "    soup = BeautifulSoup(r.content)\n",
    "    \n",
    "    price = []\n",
    "    for content in soup.findAll('div', attrs={'class': 'pricing-table-header'}):\n",
    "        rx = re.compile('<span class=\"pricing-table-price\">([^<]+)<span>')\n",
    "        for match in rx.finditer(str(content)):\n",
    "            price.append(match.group(1).strip())\n",
    "            \n",
    "    storage = []\n",
    "    for subcontent in soup.findAll('ul', attrs={'class': 'pricing-table-list'}):\n",
    "        storage.append(subcontent.select('li')[3].text[:4].strip()) \n",
    "        \n",
    "    database = []\n",
    "    for tag in soup.findAll('div', attrs={'class': 'pricing-tables pure-g'}):\n",
    "        for li in tag.findAll('li'):\n",
    "            y = re.search(r'([0-9]+) database', li.text.strip())\n",
    "            if y:\n",
    "                database.append(int(y.group(1)))\n",
    "        \n",
    "    categories = []\n",
    "    for content in soup.findAll('div', attrs={'class': 'pricing-table-header'}):\n",
    "        category = content.find('h2').text\n",
    "        categories.append(category)\n",
    "        \n",
    "    prices = {}\n",
    "    for i in range(0, len(categories)):\n",
    "        prices[categories[i]] = {\n",
    "        'price': price[i],\n",
    "        'storage': storage[i],\n",
    "        'databases': database[i]}  \n",
    "    \n",
    "    return prices"
   ]
  },
  {
   "cell_type": "code",
   "execution_count": 246,
   "metadata": {},
   "outputs": [
    {
     "data": {
      "text/plain": [
       "{'Personal': {'price': '$5', 'storage': '1GB', 'databases': 1},\n",
       " 'Small Business': {'price': '$25', 'storage': '10GB', 'databases': 5},\n",
       " 'Enterprise': {'price': '$45', 'storage': '100G', 'databases': 25}}"
      ]
     },
     "execution_count": 246,
     "metadata": {},
     "output_type": "execute_result"
    }
   ],
   "source": [
    "get_prices_from_url(\"https://kim.fspot.org/cours/page2.html\")"
   ]
  },
  {
   "cell_type": "code",
   "execution_count": 247,
   "metadata": {},
   "outputs": [
    {
     "data": {
      "text/plain": [
       "{'Personal': {'price': '$5', 'storage': '1GB', 'databases': 1},\n",
       " 'Small Business': {'price': '$25', 'storage': '10GB', 'databases': 5},\n",
       " 'Enterprise': {'price': '$45', 'storage': '100G', 'databases': 25},\n",
       " 'Privilege': {'price': '$99', 'storage': '1TB', 'databases': 100}}"
      ]
     },
     "execution_count": 247,
     "metadata": {},
     "output_type": "execute_result"
    }
   ],
   "source": [
    "get_prices_from_url(\"https://kim.fspot.org/cours/page3.html\")"
   ]
  },
  {
   "cell_type": "markdown",
   "metadata": {},
   "source": [
    "**Partie B**\n",
    "\n",
    "*L'abus d'alcool est dangereux pour la santé, à consommer avec modération.*\n",
    "\n",
    "1) Ecrire une fonction `extract_beer_infos()` qui extrait des informations sur une bière du site de bières *beowulf*.\n",
    "\n",
    "Exemple d'URL: https://www.beerwulf.com/fr-fr/p/bieres/cuvee-des-trolls.33 \n",
    "\n",
    "La fonction doit retourner :\n",
    "```json\n",
    "{'Nom': 'Cuvée des Trolls',\n",
    " 'Style': 'Bière Blonde',\n",
    " 'Contenu': 25,\n",
    " 'Degré d’alcool': 7.0,\n",
    " 'Origine': 'Belgique',\n",
    " 'Brasseur': 'Brasserie Dubuisson Freres'}\n",
    "```\n",
    "\n",
    "2) L'URL ci-après retourne un JSON avec une liste de bières :\n",
    "\n",
    "```python\n",
    "URL_BEERLIST_FRANCE = \"https://www.beerwulf.com/fr-FR/api/search/searchProducts?country=France&container=Bouteille\"\n",
    "```\n",
    "\n",
    "Ecrire une fonction `extract_beer_list_infos(url)` qui prend en argument cet URL et retourne les informations sur une liste de bières du site *beowulf*.\n",
    "\n",
    "Cette fonction doit retourner la liste des informations obtenues par la fonction précédemment définie `extract_beer_infos()`.\n",
    "\n",
    "Exemple de retour :\n",
    "\n",
    "```json\n",
    "[{'Nom':'Desperados','Style':'Lager','Contenu':33,'Degré d’alcool':5.9,'Origine':'France','Brasseur':'Desperados'},\n",
    "{'Nom':'La Lager Sans Gluten de Vézelay','Style':'Lager','Contenu':25,'Degré d’alcool':4.0,'Origine':'France','Brasseur':'Brasserie de Vézelay'},\n",
    "{'Nom':'Mélusine Bio','Style':'Pale Ale','Contenu': 33,'Degré d’alcool': 5.0,'Origine':'France','Brasseur':'Mélusine'},\n",
    "{'Nom':'La Parisienne Le Titi Parisien','Style':'IPA','Contenu':33,'Degré d’alcool':5.5,'Origine':'France','Brasseur': 'Brasserie la Parisienne'},\n",
    "{'Nom':'Brasserie De Sutter Brin de Folie','Style':'Bière Blonde','Contenu': 33,'Degré d’alcool':6.5,'Origine':'France','Brasseur':'Brasserie de Sutter'}]\n",
    "```\n",
    "\n",
    "**Facultatif**\n",
    "\n",
    "Chercher comment optimiser cette fonction en utilisant `multiprocessing.Pool()` pour paralléliser les accès web."
   ]
  },
  {
   "cell_type": "code",
   "execution_count": 277,
   "metadata": {},
   "outputs": [
    {
     "name": "stdout",
     "output_type": "stream",
     "text": [
      "4.8\n"
     ]
    }
   ],
   "source": [
    "r = requests.get('https://www.beerwulf.com/fr-fr/p/bieres/affligem-blanche-fut-5L')\n",
    "soup = BeautifulSoup(r.content)\n",
    "for beer_info in soup.findAll('div', attrs={'class': 'product-info beer-product-info'}):\n",
    "    degree = 0.0\n",
    "    for beer_degree in beer_info.findAll('dd'):\n",
    "        beer_degree = re.search(r'([0-9]+,[0-9]+)%', beer_degree.text.strip())\n",
    "        if beer_degree:\n",
    "            degree = float(beer_degree.group(1).replace(',', '.'))\n",
    "            print(degree)"
   ]
  },
  {
   "cell_type": "code",
   "execution_count": 286,
   "metadata": {},
   "outputs": [],
   "source": [
    "# partie B-1\n",
    "def extract_beer_infos(url):\n",
    "    r = requests.get(url)\n",
    "    soup = BeautifulSoup(r.content)\n",
    "    \n",
    "    name = \"\"\n",
    "    for beer_name in soup.findAll('div', attrs={'class': 'product-detail-info-title'}):\n",
    "        name = beer_name.find('h1').text\n",
    "        \n",
    "    for beer_info in soup.findAll('div', attrs={'class': 'product-info beer-product-info'}):\n",
    "        style = \"\"\n",
    "        for beer_style in beer_info.findAll('a'):\n",
    "            style = beer_style.text.strip()\n",
    "            \n",
    "        volume = 0\n",
    "        for beer_volume in beer_info.findAll('dd', attrs={'class': 'small-6 medium-9 columns js-beer-volume'}):\n",
    "            volume = int(beer_volume.text.strip()[0:2])\n",
    "            \n",
    "        degree = 0.0\n",
    "        for beer_degree in beer_info.findAll('dd'):\n",
    "            beer_degree = re.search(r'([0-9]+,[0-9]+)%', beer_degree.text.strip())\n",
    "            if beer_degree:\n",
    "                degree = float(beer_degree.group(1).replace(',', '.'))\n",
    "                \n",
    "        origin = \"\"\n",
    "        for beer_origin in beer_info.findAll('dd', attrs={'class': 'small-6 medium-9 columns js-beer-country'}):\n",
    "            origin = beer_origin.text.strip()\n",
    "        \n",
    "        brasseur = \"\"\n",
    "        brasseur = beer_info.findAll('dd')[4].text.strip()\n",
    "    \n",
    "    \n",
    "    beer_infos = {\n",
    "        'Nom': name,\n",
    "        'Style': style,\n",
    "        'Contenu': volume,\n",
    "        'Degré d’alcool': degree,\n",
    "        'Origine': origin,\n",
    "        'Brasseur': brasseur\n",
    "    }\n",
    "    return beer_infos"
   ]
  },
  {
   "cell_type": "code",
   "execution_count": 287,
   "metadata": {},
   "outputs": [],
   "source": [
    "# partie B-2\n",
    "#URL_BEERLIST_FRANCE = \"https://www.beerwulf.com/fr-FR/api/search/searchProducts?country=France&container=Bouteille\"\n",
    "URL_BEERLIST_FRANCE = \"https://www.beerwulf.com/fr-FR/api/search/searchProducts?country=France\"\n",
    "\n",
    "def extract_beer_list_infos(url):\n",
    "    # Collecter les pages de bières à partir du JSON\n",
    "    beer_pages = []\n",
    "    \n",
    "    r = requests.get(URL_BEERLIST_FRANCE)\n",
    "    content = r.json()\n",
    "    \n",
    "    for item in content['items']:\n",
    "        beer_pages.append(item['contentReference'])\n",
    "        \n",
    "    # Sequential version (slow):\n",
    "    beers = []\n",
    "    \n",
    "    for page in beer_pages:\n",
    "        beers.append(extract_beer_infos('https://www.beerwulf.com/' + page))\n",
    "\n",
    "    # Facultatif\n",
    "    # Parallel version (faster):\n",
    "    # beers = []\n",
    "    \n",
    "    return beers"
   ]
  },
  {
   "cell_type": "code",
   "execution_count": 288,
   "metadata": {},
   "outputs": [],
   "source": [
    "import unittest\n",
    "\n",
    "class Session4Tests(unittest.TestCase):\n",
    "    def test_01_get_prices_from_url_page2(self):\n",
    "        prices = get_prices_from_url(URL_PAGE2)\n",
    "        # We should have found 3 products:\n",
    "        self.assertIsInstance(prices, dict)\n",
    "        self.assertEqual(len(prices), 3)\n",
    "        self.assertIn('Personal', prices)\n",
    "        self.assertIn('Small Business', prices)\n",
    "        self.assertIn('Enterprise', prices)\n",
    "        \n",
    "        personal = prices['Personal']\n",
    "        self.assertIn('price', personal)\n",
    "        self.assertIn('storage', personal)\n",
    "        self.assertIn('databases', personal)\n",
    "        self.assertEqual(personal['price'], '$5')\n",
    "        self.assertEqual(personal['storage'], '1GB')\n",
    "        self.assertEqual(personal['databases'], 1)\n",
    "        \n",
    "    def test_02_get_prices_from_url_page3(self):\n",
    "        prices = get_prices_from_url(URL_PAGE3)\n",
    "        self.assertIsInstance(prices, dict)\n",
    "        self.assertEqual(len(prices), 4)\n",
    "        self.assertEqual(\n",
    "            prices['Privilege'],\n",
    "            {'databases': 100, 'price': '$99', 'storage': '1TB'}\n",
    "        )\n",
    "    \n",
    "    def test_03_extract_beer_list_infos(self):\n",
    "        infos = extract_beer_list_infos(URL_BEERLIST_FRANCE)\n",
    "        self.assertIsInstance(infos, list)\n",
    "        self.assertGreater(len(infos), 1)\n",
    "        # Contenu = int\n",
    "        # Degré d’alcool = float\n",
    "        for beer in infos:\n",
    "            self.assertIsInstance(beer['Nom'], str)\n",
    "            self.assertIsInstance(beer['Style'], str)\n",
    "            self.assertIsInstance(beer['Contenu'], int)\n",
    "            self.assertIsInstance(beer['Degré d’alcool'], float)\n",
    "            self.assertEqual(beer['Origine'], \"France\")\n",
    "            self.assertIsInstance(beer['Brasseur'], str)\n",
    "\n",
    "            \n",
    "def run_tests():\n",
    "    test_suite = unittest.makeSuite(Session4Tests)\n",
    "    runner = unittest.TextTestRunner(verbosity=2)\n",
    "    runner.run(test_suite)"
   ]
  },
  {
   "cell_type": "code",
   "execution_count": 289,
   "metadata": {},
   "outputs": [
    {
     "name": "stderr",
     "output_type": "stream",
     "text": [
      "test_01_get_prices_from_url_page2 (__main__.Session4Tests) ... ok\n",
      "test_02_get_prices_from_url_page3 (__main__.Session4Tests) ... ok\n",
      "test_03_extract_beer_list_infos (__main__.Session4Tests) ... ok\n",
      "\n",
      "----------------------------------------------------------------------\n",
      "Ran 3 tests in 4.195s\n",
      "\n",
      "OK\n"
     ]
    }
   ],
   "source": [
    "if __name__ == '__main__':\n",
    "    run_tests()"
   ]
  }
 ],
 "metadata": {
  "kernelspec": {
   "display_name": "Python 3 (ipykernel)",
   "language": "python",
   "name": "python3"
  },
  "language_info": {
   "codemirror_mode": {
    "name": "ipython",
    "version": 3
   },
   "file_extension": ".py",
   "mimetype": "text/x-python",
   "name": "python",
   "nbconvert_exporter": "python",
   "pygments_lexer": "ipython3",
   "version": "3.9.7"
  }
 },
 "nbformat": 4,
 "nbformat_minor": 4
}
